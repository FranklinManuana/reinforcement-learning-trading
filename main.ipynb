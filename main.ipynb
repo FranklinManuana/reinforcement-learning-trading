{
  "cells": [
    {
      "cell_type": "markdown",
      "metadata": {
        "colab_type": "text",
        "id": "view-in-github"
      },
      "source": [
        "<a href=\"https://colab.research.google.com/github/FranklinManuana/reinforcement-learning-trading/blob/main/src/main.ipynb\" target=\"_parent\"><img src=\"https://colab.research.google.com/assets/colab-badge.svg\" alt=\"Open In Colab\"/></a>"
      ]
    },
    {
      "cell_type": "code",
      "execution_count": null,
      "metadata": {
        "colab": {
          "base_uri": "https://localhost:8080/"
        },
        "id": "vKnlw67cqHU3",
        "outputId": "2bef002b-1548-4df0-d435-0a4a9f710f4c"
      },
      "outputs": [],
      "source": [
        "# Use if running repository in colab otherwise comment out \n",
        "\n",
        "!git clone https://github.com/FranklinManuana/reinforcement-learning-trading"
      ]
    },
    {
      "cell_type": "code",
      "execution_count": null,
      "metadata": {
        "colab": {
          "base_uri": "https://localhost:8080/"
        },
        "id": "mVk7d4zVtfPi",
        "outputId": "9bb2d91f-1f91-403b-d71f-4dba22bef7c7"
      },
      "outputs": [],
      "source": [
        "# Change to repository directory(again only use if running in colab)\n",
        "\n",
        "%cd reinforcement-learning-trading"
      ]
    },
    {
      "cell_type": "code",
      "execution_count": null,
      "metadata": {
        "id": "cyDhSuWXwXRC"
      },
      "outputs": [],
      "source": [
        "# import main libraries\n",
        "from src.modules.environment import *\n",
        "from src.modules.stock_data import *\n",
        "from src.modules.model_settings  import *\n",
        "from src.modules.train import *\n",
        "from src.modules.evaluate import *\n",
        "from src.modules.replay import *\n",
        "from src.modules.config import *\n"
      ]
    },
    {
      "cell_type": "code",
      "execution_count": null,
      "metadata": {
        "id": "nakt5fGJ2K1y"
      },
      "outputs": [],
      "source": [
        "#start program\n",
        "if __name__ == \"__main__\":\n",
        "    set_seed()\n",
        "    train_data, test_data = split_data_by_year()\n",
        "    model = train(train_data, test_data)\n",
        "    evaluate(model, test_data)"
      ]
    }
  ],
  "metadata": {
    "accelerator": "GPU",
    "colab": {
      "authorship_tag": "ABX9TyP3PbRFqrqwOs4DpYlL1HnK",
      "gpuType": "A100",
      "include_colab_link": true,
      "machine_shape": "hm",
      "provenance": []
    },
    "kernelspec": {
      "display_name": "base",
      "language": "python",
      "name": "python3"
    },
    "language_info": {
      "name": "python",
      "version": "3.12.7"
    }
  },
  "nbformat": 4,
  "nbformat_minor": 0
}
