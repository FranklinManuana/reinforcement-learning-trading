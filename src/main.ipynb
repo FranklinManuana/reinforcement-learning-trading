{
 "cells": [
  {
   "cell_type": "code",
   "execution_count": 22,
   "id": "743b1b77",
   "metadata": {},
   "outputs": [],
   "source": [
    "# import main libraries \n",
    "from modules.environment import *\n",
    "from modules.stock_data import *\n",
    "from modules.model_settings  import *\n",
    "from modules.train import *\n",
    "from modules.evaluate import *\n",
    "from modules.replay import *\n",
    "\n"
   ]
  },
  {
   "cell_type": "code",
   "execution_count": 23,
   "id": "f46e203d",
   "metadata": {},
   "outputs": [
    {
     "name": "stderr",
     "output_type": "stream",
     "text": [
      "[*********************100%***********************]  1 of 1 completed"
     ]
    },
    {
     "name": "stderr",
     "output_type": "stream",
     "text": [
      "\n",
      "/home/fmanuana/Repos/LHL-Projects/reinforcement-learning-trading/src/modules/stock_data.py:8: FutureWarning: DataFrame.fillna with 'method' is deprecated and will raise in a future version. Use obj.ffill() or obj.bfill() instead.\n",
      "  data = data.fillna(method='ffill')\n",
      "/home/fmanuana/Repos/LHL-Projects/reinforcement-learning-trading/src/modules/stock_data.py:10: PerformanceWarning: dropping on a non-lexsorted multi-index without a level parameter may impact performance.\n",
      "  train_data = data[data['Year'] <= train_end_year].drop(columns='Year')\n",
      "/home/fmanuana/Repos/LHL-Projects/reinforcement-learning-trading/src/modules/stock_data.py:11: PerformanceWarning: dropping on a non-lexsorted multi-index without a level parameter may impact performance.\n",
      "  test_data = data[data['Year'] >= test_start_year].drop(columns='Year')\n"
     ]
    },
    {
     "ename": "TypeError",
     "evalue": "'module' object is not callable. Did you mean: 'tqdm.tqdm(...)'?",
     "output_type": "error",
     "traceback": [
      "\u001b[0;31m---------------------------------------------------------------------------\u001b[0m",
      "\u001b[0;31mTypeError\u001b[0m                                 Traceback (most recent call last)",
      "Cell \u001b[0;32mIn[23], line 4\u001b[0m\n\u001b[1;32m      2\u001b[0m \u001b[38;5;28;01mif\u001b[39;00m \u001b[38;5;18m__name__\u001b[39m \u001b[38;5;241m==\u001b[39m \u001b[38;5;124m\"\u001b[39m\u001b[38;5;124m__main__\u001b[39m\u001b[38;5;124m\"\u001b[39m:\n\u001b[1;32m      3\u001b[0m     train_data, test_data \u001b[38;5;241m=\u001b[39m split_data_by_year()\n\u001b[0;32m----> 4\u001b[0m     model \u001b[38;5;241m=\u001b[39m train(train_data, test_data)\n\u001b[1;32m      5\u001b[0m     evaluate(model, test_data)\n",
      "File \u001b[0;32m~/Repos/LHL-Projects/reinforcement-learning-trading/src/modules/train.py:40\u001b[0m, in \u001b[0;36mtrain\u001b[0;34m(train_data, test_data)\u001b[0m\n\u001b[1;32m     37\u001b[0m iteration_counter \u001b[38;5;241m=\u001b[39m []\n\u001b[1;32m     38\u001b[0m r2_history \u001b[38;5;241m=\u001b[39m []\n\u001b[0;32m---> 40\u001b[0m pbar \u001b[38;5;241m=\u001b[39m tqdm(\u001b[38;5;28mrange\u001b[39m(episodes), desc\u001b[38;5;241m=\u001b[39m\u001b[38;5;124m\"\u001b[39m\u001b[38;5;124mTraining Episodes\u001b[39m\u001b[38;5;124m\"\u001b[39m)\n\u001b[1;32m     42\u001b[0m _iteration \u001b[38;5;241m=\u001b[39m \u001b[38;5;241m0\u001b[39m\n\u001b[1;32m     44\u001b[0m \u001b[38;5;66;03m# Training Loop\u001b[39;00m\n",
      "\u001b[0;31mTypeError\u001b[0m: 'module' object is not callable. Did you mean: 'tqdm.tqdm(...)'?"
     ]
    }
   ],
   "source": [
    "#start program\n",
    "if __name__ == \"__main__\":\n",
    "    train_data, test_data = split_data_by_year()\n",
    "    model = train(train_data, test_data)\n",
    "    evaluate(model, test_data)"
   ]
  }
 ],
 "metadata": {
  "kernelspec": {
   "display_name": "base",
   "language": "python",
   "name": "python3"
  },
  "language_info": {
   "codemirror_mode": {
    "name": "ipython",
    "version": 3
   },
   "file_extension": ".py",
   "mimetype": "text/x-python",
   "name": "python",
   "nbconvert_exporter": "python",
   "pygments_lexer": "ipython3",
   "version": "3.12.7"
  }
 },
 "nbformat": 4,
 "nbformat_minor": 5
}
