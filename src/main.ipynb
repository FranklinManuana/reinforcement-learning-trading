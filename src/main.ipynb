{
  "nbformat": 4,
  "nbformat_minor": 0,
  "metadata": {
    "colab": {
      "provenance": [],
      "machine_shape": "hm",
      "gpuType": "A100",
      "authorship_tag": "ABX9TyP3PbRFqrqwOs4DpYlL1HnK",
      "include_colab_link": true
    },
    "kernelspec": {
      "name": "python3",
      "display_name": "Python 3"
    },
    "language_info": {
      "name": "python"
    },
    "accelerator": "GPU"
  },
  "cells": [
    {
      "cell_type": "markdown",
      "metadata": {
        "id": "view-in-github",
        "colab_type": "text"
      },
      "source": [
        "<a href=\"https://colab.research.google.com/github/FranklinManuana/reinforcement-learning-trading/blob/main/src/main.ipynb\" target=\"_parent\"><img src=\"https://colab.research.google.com/assets/colab-badge.svg\" alt=\"Open In Colab\"/></a>"
      ]
    },
    {
      "cell_type": "code",
      "execution_count": null,
      "metadata": {
        "colab": {
          "base_uri": "https://localhost:8080/"
        },
        "id": "vKnlw67cqHU3",
        "outputId": "2bef002b-1548-4df0-d435-0a4a9f710f4c"
      },
      "outputs": [
        {
          "output_type": "stream",
          "name": "stdout",
          "text": [
            "Cloning into 'reinforcement-learning-trading'...\n",
            "remote: Enumerating objects: 195, done.\u001b[K\n",
            "remote: Counting objects: 100% (92/92), done.\u001b[K\n",
            "remote: Compressing objects: 100% (67/67), done.\u001b[K\n",
            "remote: Total 195 (delta 46), reused 68 (delta 24), pack-reused 103 (from 1)\u001b[K\n",
            "Receiving objects: 100% (195/195), 68.13 MiB | 48.79 MiB/s, done.\n",
            "Resolving deltas: 100% (89/89), done.\n"
          ]
        }
      ],
      "source": [
        "!git clone https://github.com/FranklinManuana/reinforcement-learning-trading"
      ]
    },
    {
      "cell_type": "code",
      "source": [
        "%cd reinforcement-learning-trading/src"
      ],
      "metadata": {
        "colab": {
          "base_uri": "https://localhost:8080/"
        },
        "id": "mVk7d4zVtfPi",
        "outputId": "9bb2d91f-1f91-403b-d71f-4dba22bef7c7"
      },
      "execution_count": 4,
      "outputs": [
        {
          "output_type": "stream",
          "name": "stdout",
          "text": [
            "/bin/bash: line 1: cd: reinforcement-learning-trading: No such file or directory\n"
          ]
        }
      ]
    },
    {
      "cell_type": "code",
      "source": [
        "# import main libraries\n",
        "from modules.environment import *\n",
        "from modules.stock_data import *\n",
        "from modules.model_settings  import *\n",
        "from modules.train import *\n",
        "from modules.evaluate import *\n",
        "from modules.replay import *\n",
        "from modules.config import *\n"
      ],
      "metadata": {
        "id": "cyDhSuWXwXRC"
      },
      "execution_count": null,
      "outputs": []
    },
    {
      "cell_type": "code",
      "source": [
        "#start program\n",
        "if __name__ == \"__main__\":\n",
        "    set_seed()\n",
        "    train_data, test_data = split_data_by_year()\n",
        "    model = train(train_data, test_data)\n",
        "    evaluate(model, test_data)"
      ],
      "metadata": {
        "id": "nakt5fGJ2K1y"
      },
      "execution_count": null,
      "outputs": []
    }
  ]
}