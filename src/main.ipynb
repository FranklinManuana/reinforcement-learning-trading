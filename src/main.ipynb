{
 "cells": [
  {
   "cell_type": "code",
   "execution_count": 1,
   "id": "743b1b77",
   "metadata": {},
   "outputs": [],
   "source": [
    "# import main libraries \n",
    "from modules.environment import *\n",
    "from modules.stock_data import *\n",
    "from modules.model_settings  import *\n",
    "from modules.train import *\n",
    "from modules.evaluate import *\n",
    "from modules.replay import *\n",
    "\n"
   ]
  },
  {
   "cell_type": "code",
   "execution_count": null,
   "id": "f46e203d",
   "metadata": {},
   "outputs": [],
   "source": [
    "#start program\n",
    "if __name__ == \"__main__\":\n",
    "    train_data, test_data = split_data_by_year()\n",
    "    model = train(train_data, test_data)\n",
    "    evaluate(model, test_data)"
   ]
  }
 ],
 "metadata": {
  "kernelspec": {
   "display_name": "base",
   "language": "python",
   "name": "python3"
  },
  "language_info": {
   "codemirror_mode": {
    "name": "ipython",
    "version": 3
   },
   "file_extension": ".py",
   "mimetype": "text/x-python",
   "name": "python",
   "nbconvert_exporter": "python",
   "pygments_lexer": "ipython3",
   "version": "3.12.7"
  }
 },
 "nbformat": 4,
 "nbformat_minor": 5
}
