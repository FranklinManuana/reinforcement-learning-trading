{
 "cells": [
  {
   "cell_type": "code",
   "execution_count": 1,
   "id": "48ff7ffd",
   "metadata": {},
   "outputs": [],
   "source": [
    "# import base stats libraries\n",
    "import numpy as np\n",
    "import pandas as pd\n",
    "import random \n",
    "import seaborn as sb\n",
    "import matplotlib.pyplot as plt\n",
    "\n",
    "# import yfinance for stock data\n",
    "import yfinance as yf \n",
    "\n",
    "# import torch for model creation and sklearn to scale within reasonable range\n",
    "import torch\n",
    "from sklearn.preprocessing import MinMaxScaler\n",
    "\n",
    "# import progress bar\n",
    "from tqdm import tqdm\n",
    "\n",
    "# import decoupling method numpy array split\n",
    "from collections import deque\n",
    "\n",
    "#import datetime\n",
    "#import cv2"
   ]
  },
  {
   "cell_type": "code",
   "execution_count": 2,
   "id": "725d0ce9",
   "metadata": {},
   "outputs": [],
   "source": [
    "# cuda setup\n",
    "if torch.cuda.is_available():\n",
    "    device = 'cuda'\n",
    "else:\n",
    "    device = 'cpu'"
   ]
  },
  {
   "cell_type": "markdown",
   "id": "347dc96d",
   "metadata": {},
   "source": [
    "### Trading Environment"
   ]
  },
  {
   "cell_type": "code",
   "execution_count": 3,
   "id": "2501aaa0",
   "metadata": {},
   "outputs": [],
   "source": [
    "class TradingEnv:\n",
    "    def __init__(self, data, window_size = 30, initial_balance = 10000):\n",
    "        self.data = data\n",
    "        self.window_size = window_size\n",
    "        self.initial_balance = initial_balance\n",
    "        self.reset()\n",
    "    \n",
    "    def reset(self):\n",
    "        self.current_step = self.window_size\n",
    "        self.balance = self.initial_balance\n",
    "        self.shares_held = 0\n",
    "        self.net_worth = self.initial_balance\n",
    "        self.done = False\n",
    "        return self.getStates()\n",
    "    \n",
    "    def getStates(self):\n",
    "        state = self.data[self.current_step - self.window_size:self.current_step].flatten()\n",
    "        # normalize balance and shares_held before \n",
    "        norm_balance = self.balance / self.initial_balance\n",
    "        norm_shares = self.shares_held\n",
    "        return np.concatenate((state,[norm_balance, norm_shares]))\n",
    "    \n",
    "    def step(self, action):\n",
    "        price = self.data[self.current_step][3] # close\n",
    "        prev_net = self.net_worth\n",
    "        reward = 0\n",
    "\n",
    "        if action == 1: # Buy\n",
    "            if self.balance >= price:\n",
    "                self.balance -= price\n",
    "                self.shares_held += 1 \n",
    "        elif action == 2: # sell\n",
    "            if self.shares_held > 0:\n",
    "                self.balance += price \n",
    "                self.shares_held -= 1\n",
    "                reward = 1\n",
    "    \n",
    "        self.current_step += 1\n",
    "        if self.current_step >= len(self.data):\n",
    "            self.done = True\n",
    "        self.net_worth = self.balance + self.shares_held * price\n",
    "        reward = self.net_worth - prev_net\n",
    "\n",
    "        return self.getStates(), reward, self.done"
   ]
  },
  {
   "cell_type": "markdown",
   "id": "36ecc8e4",
   "metadata": {},
   "source": [
    "### Network architecture"
   ]
  },
  {
   "cell_type": "code",
   "execution_count": 4,
   "id": "d3d180fb",
   "metadata": {},
   "outputs": [],
   "source": [
    "N_features = 5 # OHLCV\n",
    "window_size = 30 # 30-day trading window\n",
    "N_states = N_features * window_size \n",
    "\n",
    "class TradingNet(torch.nn.Module):\n",
    "    def __init__(self):\n",
    "        super(TradingNet, self).__init__()\n",
    "        self.fc1 = torch.nn.Linear(N_states+2,8192) # +2 for balance and shares_held\n",
    "        self.fc2 = torch.nn.Linear(8192,1024)\n",
    "        self.fc3 = torch.nn.Linear(1024,3)\n",
    "        self.activ = torch.nn.LeakyReLU()\n",
    "    \n",
    "    def forward(self, x):\n",
    "        x =self.activ(self.fc1(x))\n",
    "        x = self.activ(self.fc2(x))\n",
    "        return self.fc3(x)"
   ]
  },
  {
   "cell_type": "markdown",
   "id": "6188b555",
   "metadata": {},
   "source": [
    "### Replay Class"
   ]
  },
  {
   "cell_type": "code",
   "execution_count": 5,
   "id": "8fa2f94e",
   "metadata": {},
   "outputs": [],
   "source": [
    "class ReplayBuffer:\n",
    "    def __init__(self, capacity):\n",
    "        self.buffer = deque(maxlen=capacity)\n",
    "\n",
    "    def push(self, state, action, reward, next_state, done):\n",
    "        self.buffer.append((np.array(state), action, reward, np.array(next_state), done))\n",
    "\n",
    "    def sample(self, batch_size):\n",
    "        batch = random.sample(self.buffer, batch_size)\n",
    "        state, action, reward, next_state, done = map(np.array, zip(*batch))\n",
    "        return state, action, reward, next_state, done\n",
    "\n",
    "    def __len__(self):\n",
    "        return len(self.buffer)\n",
    "\n"
   ]
  },
  {
   "cell_type": "markdown",
   "id": "5c21cc7c",
   "metadata": {},
   "source": [
    "### Parameters/Settings"
   ]
  },
  {
   "cell_type": "code",
   "execution_count": 6,
   "id": "f1dde961",
   "metadata": {},
   "outputs": [],
   "source": [
    "'''Initial model settings will be here '''\n",
    "# model parameter settings\n",
    "episodes = 50\n",
    "gamma = 0.9999\n",
    "epsilon = 1.0\n",
    "epsilon_min = 0.01\n",
    "epsilon_decay = 0.999\n",
    "batch_size = 32\n",
    "buffer_capacity = 10000\n",
    "model_path = \"../data\"\n"
   ]
  },
  {
   "cell_type": "markdown",
   "id": "70c33d94",
   "metadata": {},
   "source": [
    "### Get data"
   ]
  },
  {
   "cell_type": "code",
   "execution_count": 7,
   "id": "bd0d29d2",
   "metadata": {},
   "outputs": [
    {
     "data": {
      "text/plain": [
       "'def stock_data(ticker=\\'NVDA\\', start=\"2020-01-01\", end=\"2023-12-31\"):\\n    #load stock data while also cleaning columns of interest\\n    data = yf.download(ticker, start=start, end=end)[[\"Open\",\"High\",\"Low\",\"Close\",\"Volume\"]].fillna(method=\\'ffill\\')\\n    scaler = MinMaxScaler()\\n    scaled_data = scaler.fit_transform(data)\\n    return scaled_data'"
      ]
     },
     "execution_count": 7,
     "metadata": {},
     "output_type": "execute_result"
    }
   ],
   "source": [
    "'''def stock_data(ticker='NVDA', start=\"2020-01-01\", end=\"2023-12-31\"):\n",
    "    #load stock data while also cleaning columns of interest\n",
    "    data = yf.download(ticker, start=start, end=end)[[\"Open\",\"High\",\"Low\",\"Close\",\"Volume\"]].fillna(method='ffill')\n",
    "    scaler = MinMaxScaler()\n",
    "    scaled_data = scaler.fit_transform(data)\n",
    "    return scaled_data'''"
   ]
  },
  {
   "cell_type": "code",
   "execution_count": 8,
   "id": "e4dd52b7",
   "metadata": {},
   "outputs": [],
   "source": [
    "# Data loader\n",
    "def split_data_by_year(ticker='NVDA', train_end_year=2022, test_start_year=2023):\n",
    "    data = yf.download(ticker, start=\"2020-01-01\", end=\"2023-12-31\")[[\"Open\", \"High\", \"Low\", \"Close\", \"Volume\"]]\n",
    "    data = data.fillna(method='ffill')\n",
    "    data['Year'] = data.index.year\n",
    "    train_data = data[data['Year'] <= train_end_year].drop(columns='Year')\n",
    "    test_data = data[data['Year'] >= test_start_year].drop(columns='Year')\n",
    "\n",
    "    scaler = MinMaxScaler()\n",
    "    scaled_train = scaler.fit_transform(train_data)\n",
    "    scaled_test = scaler.transform(test_data)\n",
    "    return scaled_train, scaled_test"
   ]
  },
  {
   "cell_type": "markdown",
   "id": "edee7808",
   "metadata": {},
   "source": [
    "### Training"
   ]
  },
  {
   "cell_type": "code",
   "execution_count": 9,
   "id": "5dfa1e00",
   "metadata": {},
   "outputs": [],
   "source": [
    "def train(train_data):\n",
    "    #data = stock_data()\n",
    "    env = TradingEnv(train_data,30)#30 is for days\n",
    "    action_size = 3 # buy,sell, hold\n",
    "    model = TradingNet().to(device) # neural network\n",
    "\n",
    "    #network setup\n",
    "    target_model = TradingNet().to(device)\n",
    "    target_model.load_state_dict(model.state_dict())\n",
    "\n",
    "    net = TradingNet()\n",
    "    optimizer = torch.optim.Adam(model.parameters(), lr=1e-4)\n",
    "    criterion = torch.nn.MSELoss()\n",
    "    replay_buffer = ReplayBuffer(buffer_capacity)\n",
    "\n",
    "    global epsilon # access epsilon variable from settings\n",
    "    rewards_history = []\n",
    "\n",
    "    pbar = tqdm(range(episodes), desc=\"Training Episodes\")\n",
    "\n",
    "    # Training Loop\n",
    "    for episode in pbar:\n",
    "        state = env.reset()\n",
    "        total_reward = 0\n",
    "        done = False\n",
    "\n",
    "        while not done:\n",
    "            if np.random.rand() <= epsilon:\n",
    "                action = random.randrange(action_size)\n",
    "            else:\n",
    "                with torch.no_grad():\n",
    "                    # convert to tensor and move to device.unsqueeze to make batch dimensions work.\n",
    "                    action = torch.argmax(model(torch.FloatTensor(state).unsqueeze(0).to(device))).item()\n",
    "            \n",
    "            next_state, reward, done = env.step(action)\n",
    "            replay_buffer.push(state, action, reward, next_state, done)\n",
    "            state = next_state\n",
    "            total_reward += reward\n",
    "\n",
    "            # Replay\n",
    "            if len(replay_buffer) >= batch_size:\n",
    "                states, actions, rewards, next_states, dones = replay_buffer.sample(batch_size)\n",
    "                states = torch.FloatTensor(states).to(device)\n",
    "                next_states = torch.FloatTensor(next_states).to(device)\n",
    "                actions = torch.LongTensor(actions).to(device)\n",
    "                rewards = torch.FloatTensor(rewards).to(device)\n",
    "                dones = torch.FloatTensor(dones).to(device)\n",
    "\n",
    "                # values for model states\n",
    "                q_values = model(states)\n",
    "                next_q_values = target_model(next_states)\n",
    "\n",
    "                # Q-values for next states\n",
    "                max_next_q_values = torch.max(next_q_values, dim=1)[0]\n",
    "\n",
    "                q_targets = rewards + gamma * max_next_q_values * (1 - dones)\n",
    "\n",
    "                q_values_actions = q_values.gather(1, actions.unsqueeze(1)).squeeze()\n",
    "\n",
    "\n",
    "                loss = criterion(q_values_actions, q_targets)\n",
    "\n",
    "\n",
    "                optimizer.zero_grad()\n",
    "                loss.backward()\n",
    "                optimizer.step()\n",
    "        \n",
    "            epsilon = max(epsilon_min, epsilon * epsilon_decay)\n",
    "        target_model.load_state_dict(model.state_dict())\n",
    "        rewards_history.append(total_reward)\n",
    "\n",
    "\n",
    "        # progress bar\n",
    "        pbar.set_postfix({\n",
    "        'Reward': total_reward,\n",
    "        'Epsilon': f\"{epsilon:.3f}\",\n",
    "        'Loss': f\"{loss.item():.4f}\" if 'loss' in locals() else 'N/A'\n",
    "        })\n",
    "    \n",
    "    # save model\n",
    "    torch.save(model.state_dict(),model_path)\n",
    "    print(\"Model saved to\", model_path)\n",
    "\n",
    "    # display progress\n",
    "    plt.plot(rewards_history)\n",
    "    plt.xlabel(\"Episode\")\n",
    "    plt.ylabel(\"Total Reward\")\n",
    "    plt.title(\"Reward per Episode\")\n",
    "    plt.grid()\n",
    "    plt.show()\n"
   ]
  },
  {
   "cell_type": "markdown",
   "id": "f864ad05",
   "metadata": {},
   "source": [
    "### Evaluation"
   ]
  },
  {
   "cell_type": "code",
   "execution_count": 10,
   "id": "7e03760c",
   "metadata": {},
   "outputs": [],
   "source": [
    "\n",
    "# Evaluation\n",
    "def evaluate(model, test_data, window_size=30):\n",
    "    env = TradingEnv(test_data, window_size)\n",
    "    state = env.reset()\n",
    "    done = False\n",
    "    total_reward = 0\n",
    "\n",
    "    while not done:\n",
    "        with torch.no_grad():\n",
    "            action = torch.argmax(model(torch.FloatTensor(state).unsqueeze(0).to(device))).item()\n",
    "        next_state, reward, done = env.step(action)\n",
    "        state = next_state\n",
    "        total_reward += reward\n",
    "\n",
    "    print(f\"Evaluation Total Reward: {total_reward}\")\n",
    "    return total_reward"
   ]
  },
  {
   "cell_type": "code",
   "execution_count": 11,
   "id": "d1292060",
   "metadata": {},
   "outputs": [
    {
     "name": "stdout",
     "output_type": "stream",
     "text": [
      "YF.download() has changed argument auto_adjust default to True\n"
     ]
    },
    {
     "name": "stderr",
     "output_type": "stream",
     "text": [
      "[*********************100%***********************]  1 of 1 completed\n",
      "/tmp/ipykernel_322445/1615736418.py:4: FutureWarning: DataFrame.fillna with 'method' is deprecated and will raise in a future version. Use obj.ffill() or obj.bfill() instead.\n",
      "  data = data.fillna(method='ffill')\n",
      "/tmp/ipykernel_322445/1615736418.py:6: PerformanceWarning: dropping on a non-lexsorted multi-index without a level parameter may impact performance.\n",
      "  train_data = data[data['Year'] <= train_end_year].drop(columns='Year')\n",
      "/tmp/ipykernel_322445/1615736418.py:7: PerformanceWarning: dropping on a non-lexsorted multi-index without a level parameter may impact performance.\n",
      "  test_data = data[data['Year'] >= test_start_year].drop(columns='Year')\n",
      "Training Episodes:   0%|          | 0/50 [00:25<?, ?it/s]\n"
     ]
    },
    {
     "ename": "KeyboardInterrupt",
     "evalue": "",
     "output_type": "error",
     "traceback": [
      "\u001b[0;31m---------------------------------------------------------------------------\u001b[0m",
      "\u001b[0;31mKeyboardInterrupt\u001b[0m                         Traceback (most recent call last)",
      "Cell \u001b[0;32mIn[11], line 4\u001b[0m\n\u001b[1;32m      2\u001b[0m \u001b[38;5;28;01mif\u001b[39;00m \u001b[38;5;18m__name__\u001b[39m \u001b[38;5;241m==\u001b[39m \u001b[38;5;124m\"\u001b[39m\u001b[38;5;124m__main__\u001b[39m\u001b[38;5;124m\"\u001b[39m:\n\u001b[1;32m      3\u001b[0m     train_data, test_data \u001b[38;5;241m=\u001b[39m split_data_by_year()\n\u001b[0;32m----> 4\u001b[0m     model \u001b[38;5;241m=\u001b[39m train(train_data)\n\u001b[1;32m      5\u001b[0m     evaluate(model, test_data)\n",
      "Cell \u001b[0;32mIn[9], line 65\u001b[0m, in \u001b[0;36mtrain\u001b[0;34m(train_data)\u001b[0m\n\u001b[1;32m     61\u001b[0m     loss \u001b[38;5;241m=\u001b[39m criterion(q_values_actions, q_targets)\n\u001b[1;32m     64\u001b[0m     optimizer\u001b[38;5;241m.\u001b[39mzero_grad()\n\u001b[0;32m---> 65\u001b[0m     loss\u001b[38;5;241m.\u001b[39mbackward()\n\u001b[1;32m     66\u001b[0m     optimizer\u001b[38;5;241m.\u001b[39mstep()\n\u001b[1;32m     68\u001b[0m epsilon \u001b[38;5;241m=\u001b[39m \u001b[38;5;28mmax\u001b[39m(epsilon_min, epsilon \u001b[38;5;241m*\u001b[39m epsilon_decay)\n",
      "File \u001b[0;32m~/anaconda3/lib/python3.12/site-packages/torch/_tensor.py:648\u001b[0m, in \u001b[0;36mTensor.backward\u001b[0;34m(self, gradient, retain_graph, create_graph, inputs)\u001b[0m\n\u001b[1;32m    638\u001b[0m \u001b[38;5;28;01mif\u001b[39;00m has_torch_function_unary(\u001b[38;5;28mself\u001b[39m):\n\u001b[1;32m    639\u001b[0m     \u001b[38;5;28;01mreturn\u001b[39;00m handle_torch_function(\n\u001b[1;32m    640\u001b[0m         Tensor\u001b[38;5;241m.\u001b[39mbackward,\n\u001b[1;32m    641\u001b[0m         (\u001b[38;5;28mself\u001b[39m,),\n\u001b[0;32m   (...)\u001b[0m\n\u001b[1;32m    646\u001b[0m         inputs\u001b[38;5;241m=\u001b[39minputs,\n\u001b[1;32m    647\u001b[0m     )\n\u001b[0;32m--> 648\u001b[0m torch\u001b[38;5;241m.\u001b[39mautograd\u001b[38;5;241m.\u001b[39mbackward(\n\u001b[1;32m    649\u001b[0m     \u001b[38;5;28mself\u001b[39m, gradient, retain_graph, create_graph, inputs\u001b[38;5;241m=\u001b[39minputs\n\u001b[1;32m    650\u001b[0m )\n",
      "File \u001b[0;32m~/anaconda3/lib/python3.12/site-packages/torch/autograd/__init__.py:353\u001b[0m, in \u001b[0;36mbackward\u001b[0;34m(tensors, grad_tensors, retain_graph, create_graph, grad_variables, inputs)\u001b[0m\n\u001b[1;32m    348\u001b[0m     retain_graph \u001b[38;5;241m=\u001b[39m create_graph\n\u001b[1;32m    350\u001b[0m \u001b[38;5;66;03m# The reason we repeat the same comment below is that\u001b[39;00m\n\u001b[1;32m    351\u001b[0m \u001b[38;5;66;03m# some Python versions print out the first line of a multi-line function\u001b[39;00m\n\u001b[1;32m    352\u001b[0m \u001b[38;5;66;03m# calls in the traceback and some print out the last line\u001b[39;00m\n\u001b[0;32m--> 353\u001b[0m _engine_run_backward(\n\u001b[1;32m    354\u001b[0m     tensors,\n\u001b[1;32m    355\u001b[0m     grad_tensors_,\n\u001b[1;32m    356\u001b[0m     retain_graph,\n\u001b[1;32m    357\u001b[0m     create_graph,\n\u001b[1;32m    358\u001b[0m     inputs,\n\u001b[1;32m    359\u001b[0m     allow_unreachable\u001b[38;5;241m=\u001b[39m\u001b[38;5;28;01mTrue\u001b[39;00m,\n\u001b[1;32m    360\u001b[0m     accumulate_grad\u001b[38;5;241m=\u001b[39m\u001b[38;5;28;01mTrue\u001b[39;00m,\n\u001b[1;32m    361\u001b[0m )\n",
      "File \u001b[0;32m~/anaconda3/lib/python3.12/site-packages/torch/autograd/graph.py:824\u001b[0m, in \u001b[0;36m_engine_run_backward\u001b[0;34m(t_outputs, *args, **kwargs)\u001b[0m\n\u001b[1;32m    822\u001b[0m     unregister_hooks \u001b[38;5;241m=\u001b[39m _register_logging_hooks_on_whole_graph(t_outputs)\n\u001b[1;32m    823\u001b[0m \u001b[38;5;28;01mtry\u001b[39;00m:\n\u001b[0;32m--> 824\u001b[0m     \u001b[38;5;28;01mreturn\u001b[39;00m Variable\u001b[38;5;241m.\u001b[39m_execution_engine\u001b[38;5;241m.\u001b[39mrun_backward(  \u001b[38;5;66;03m# Calls into the C++ engine to run the backward pass\u001b[39;00m\n\u001b[1;32m    825\u001b[0m         t_outputs, \u001b[38;5;241m*\u001b[39margs, \u001b[38;5;241m*\u001b[39m\u001b[38;5;241m*\u001b[39mkwargs\n\u001b[1;32m    826\u001b[0m     )  \u001b[38;5;66;03m# Calls into the C++ engine to run the backward pass\u001b[39;00m\n\u001b[1;32m    827\u001b[0m \u001b[38;5;28;01mfinally\u001b[39;00m:\n\u001b[1;32m    828\u001b[0m     \u001b[38;5;28;01mif\u001b[39;00m attach_logging_hooks:\n",
      "\u001b[0;31mKeyboardInterrupt\u001b[0m: "
     ]
    }
   ],
   "source": [
    "#start program\n",
    "if __name__ == \"__main__\":\n",
    "    train_data, test_data = split_data_by_year()\n",
    "    model = train(train_data)\n",
    "    evaluate(model, test_data)\n"
   ]
  }
 ],
 "metadata": {
  "kernelspec": {
   "display_name": "base",
   "language": "python",
   "name": "python3"
  },
  "language_info": {
   "codemirror_mode": {
    "name": "ipython",
    "version": 3
   },
   "file_extension": ".py",
   "mimetype": "text/x-python",
   "name": "python",
   "nbconvert_exporter": "python",
   "pygments_lexer": "ipython3",
   "version": "3.12.7"
  }
 },
 "nbformat": 4,
 "nbformat_minor": 5
}
