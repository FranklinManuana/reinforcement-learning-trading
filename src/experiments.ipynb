{
 "cells": [
  {
   "cell_type": "code",
   "execution_count": null,
   "id": "48ff7ffd",
   "metadata": {},
   "outputs": [],
   "source": [
    "# import base stats libraries\n",
    "import numpy as np\n",
    "import pandas as pd\n",
    "import random \n",
    "import seaborn as sb\n",
    "import matplotlib.pyplot as plt\n",
    "\n",
    "# import yfinance for stock data\n",
    "import yfinance as yf \n",
    "\n",
    "# import torch for model creation and sklearn to scale within reasonable range\n",
    "import torch\n",
    "import sklearn.preprocessing import MinMaxScaler\n",
    "\n",
    "# import progress bar\n",
    "from tqdm import tqdm\n",
    "\n",
    "# import decoupling method numpy array split\n",
    "from collections import deque\n",
    "\n",
    "import datetime\n",
    "import cv2"
   ]
  },
  {
   "cell_type": "code",
   "execution_count": null,
   "id": "bd93deec",
   "metadata": {},
   "outputs": [],
   "source": [
    "# company ticker symbol\n",
    "ticker = 'NVDA'\n",
    "df = yf.download(ticker)"
   ]
  },
  {
   "cell_type": "code",
   "execution_count": null,
   "id": "683a1762",
   "metadata": {},
   "outputs": [],
   "source": [
    "# show stock plot over the years\n",
    "df.Close.plot(figure=(12,8))"
   ]
  },
  {
   "cell_type": "code",
   "execution_count": null,
   "id": "2bbc56c4",
   "metadata": {},
   "outputs": [],
   "source": [
    "scaler = StandardScaler()\n",
    "df['Close'] = scalar.fit_transform(df['Close'])\n"
   ]
  },
  {
   "cell_type": "markdown",
   "id": "347dc96d",
   "metadata": {},
   "source": [
    "### Trading Environment"
   ]
  },
  {
   "cell_type": "code",
   "execution_count": null,
   "id": "2501aaa0",
   "metadata": {},
   "outputs": [],
   "source": [
    "class TradingEnv:\n",
    "    def __init__(self, data, window_size = 30, initial_balance = 10000):\n",
    "        self.data = data\n",
    "        self.window_size = window_size\n",
    "        self.initial_balance = initial_balance\n",
    "        self.reset()\n",
    "    \n",
    "    def reset(self):\n",
    "        self.current_step = self.window_size\n",
    "        self.balance = self.initial_balance\n",
    "        self.shares_held = 0\n",
    "        self.net_worth = self.initial_balance\n",
    "        self.done = False\n",
    "        return self.getStates()\n",
    "    \n",
    "    def getStates(self):\n",
    "        state = self.data[self.current_step - self.window_size:self.current_step].values\n",
    "        return np.concatenate([state.flatten(), [self.balance, self.shares_held]])\n",
    "    \n",
    "    def step(self, action):\n",
    "        price = self.data.iloc[self.current_step]['close']\n",
    "        prev_net = self.net_worth\n",
    "        reward = 0\n",
    "\n",
    "        if action == 1: # Buy\n",
    "            if self.balance >= price:\n",
    "                self.balance -= price\n",
    "                self.shares_held += 1 \n",
    "        elif action == 2: # sell\n",
    "            if self.shares_held > 0:\n",
    "                self.balance += price \n",
    "                self.shares_held -= 1\n",
    "                reward = 1\n",
    "    \n",
    "        self.current_step += 1\n",
    "        if self.current_step >= len(self.data):\n",
    "            self.done = True\n",
    "        self.net_worth = self.balance + self.shares_held * price\n",
    "        reward = self.net_worth - prev_net\n",
    "\n",
    "        return self.getStates(), reward, self.done"
   ]
  },
  {
   "cell_type": "markdown",
   "id": "36ecc8e4",
   "metadata": {},
   "source": [
    "Network architecture using leaky ReLU"
   ]
  },
  {
   "cell_type": "code",
   "execution_count": null,
   "id": "d3d180fb",
   "metadata": {},
   "outputs": [],
   "source": [
    "N_features = 5 # OHLCV\n",
    "window_size = 30 # 30-day trading window\n",
    "N_states = N_features * window_size \n",
    "\n",
    "class TradingNet(torch.nn.Module):\n",
    "    def __init__(self):\n",
    "        super(TradingNet, self).__init__()\n",
    "        self.fc1 = torch.nn.Linear(N_states,8192)\n",
    "        self.fc2 = torch.nn.Linear(8192,1024)\n",
    "        self.fc3 = torch.nn.Linear(1024,3)\n",
    "        self.activ = torch.nn.LeakyReLU()\n",
    "    \n",
    "    def forward(self, x):\n",
    "        x =self.activ(self.fc1(x))\n",
    "        x = self.activ(self.fc2(x))\n",
    "        return self.fc3(x)"
   ]
  },
  {
   "cell_type": "markdown",
   "id": "6188b555",
   "metadata": {},
   "source": [
    "### Replay Class"
   ]
  },
  {
   "cell_type": "code",
   "execution_count": null,
   "id": "8fa2f94e",
   "metadata": {},
   "outputs": [],
   "source": [
    "class ReplayBuffer:\n",
    "    def __init__(self, capacity):\n",
    "        self.buffer = deque(maxlen=capacity)\n",
    "\n",
    "    def push(self, state, action, reward, next_state, done):\n",
    "        self.buffer.append((state, action, reward, next_state, done))\n",
    "\n",
    "    def sample(self, batch_size):\n",
    "        batch = random.sample(self.buffer, batch_size)\n",
    "        state, action, reward, next_state, done = map(np.array, zip(*batch))\n",
    "        return state, action, reward, next_state, done\n",
    "\n",
    "    def __len__(self):\n",
    "        return len(self.buffer)\n",
    "\n"
   ]
  },
  {
   "cell_type": "code",
   "execution_count": null,
   "id": "f1dde961",
   "metadata": {},
   "outputs": [],
   "source": [
    "'''Initial model settings will be here '''\n",
    "# model parameter settings\n",
    "episodes = 50\n",
    "gamma = 0.99\n",
    "epsilon = 1.0\n",
    "epsilon_min = 0.01\n",
    "epsilon_decay = 0.995\n",
    "batch_size = 32\n",
    "buffer_capacity = 10000\n",
    "model_path = \"trading_net_nvda.pth\"\n"
   ]
  },
  {
   "cell_type": "markdown",
   "id": "70c33d94",
   "metadata": {},
   "source": [
    "### Get data"
   ]
  },
  {
   "cell_type": "code",
   "execution_count": null,
   "id": "bd0d29d2",
   "metadata": {},
   "outputs": [],
   "source": [
    "def stock_data(ticker, start=\"2020-01-01\", end=\"2023-12-31\"):\n",
    "    #load stock data while also cleaning columns of interest\n",
    "    data = yf.download(ticker, start=start, end=end)[[\"Open\",\"High\",\"Low\",\"Close\",\"Volume\"]].fillna(method='ffill')\n",
    "    scaler = MinMaxScaler()\n",
    "    scaled_data = scaler.fit_transform(data)\n",
    "    return scaled_data"
   ]
  },
  {
   "cell_type": "code",
   "execution_count": null,
   "id": "5dfa1e00",
   "metadata": {},
   "outputs": [],
   "source": [
    "def train():\n",
    "    data = stock_data()\n",
    "    env = TradingEnv(data,30)#30 is for days\n",
    "    action_size = 3 # buy,sell, hold\n",
    "    model = TradingNet() # neural network\n",
    "\n",
    "    #network setup\n",
    "    target_model = TradingNet()\n",
    "    target_model.load_state_dict(model.state_dict())\n",
    "\n",
    "    net = TradingNet().cuda()\n",
    "    optimizer = torch.optim.Adam(net.parameters(), lr=1e-4)\n",
    "    criterion = torch.nn.MSELoss()\n",
    "\n",
    "    # Training Loop\n",
    "    for episode in tqdm(range(episodes), desc=\"Training Episodes\"):\n",
    "        state = env.reset()\n",
    "        total_reward = 0\n",
    "        done = False\n",
    "\n",
    "        while not done:\n",
    "            if np.random.rand() <= EPSILON:\n",
    "                action = random.randrange(action_size)\n",
    "            else:\n",
    "                with torch.no_grad():\n",
    "                    action = torch.argmax(model(torch.FloatTensor(state))).item()\n",
    "            \n",
    "            next_state, reward, done = env.step(action)\n",
    "            replay_buff.push(state, action, reward, next_state, done)\n",
    "            state = next_state\n",
    "            total_reward += reward\n",
    "\n",
    "            # Replay\n",
    "            if len(replay_buffer) >= batch_size:\n",
    "                states, actions, rewards, next_states, dones = replay_buffer.sample(batch_size)\n",
    "                states = torch.FloatTensor(states)\n",
    "                next_states = torch.FloatTensor(next_states)\n",
    "                actions = torch.LongTensor(actions)\n",
    "                rewards = torch.FloatTensor(rewards)\n",
    "                dones = torch.FloatTensor(dones)\n",
    "\n",
    "                # values for model states\n",
    "                q_values = model(states)\n",
    "                next_q_values = target_model(next_states)\n",
    "\n",
    "                q_target = q_values.clone()\n",
    "                for i in range(batch_size):\n",
    "                    q_target[i, actions[i]] = rewards[1] + gamma * torch.max(next_q_values[1]) * (1 - dones[i])\n",
    "\n",
    "                    loss = criterion(q_values, q_target.detach())\n",
    "                    optimizer.zero_grad()\n",
    "                    loss.backward()\n",
    "                    optimizer.step()\n",
    "        \n",
    "        epsilon = max(epsilon_min, epsilon * epsilon_decay)\n",
    "        target_model.load_state_dict(model.state_dict())\n",
    "        rewards.history.append(total_reward)\n",
    "        print(f\"Episode{episode+1}/{episodes}, Total Reward: {total_reward}, Epsilon: {epsilon:.4f}\")\n",
    "    \n",
    "    # save model\n",
    "    torch.save(model.state_dict(),model_path)\n",
    "    print(\"Model saved to\", model_path)\n",
    "\n",
    "    # display progress\n",
    "    plt.plot(rewards_history)\n",
    "    plt.xlabel(\"Episode\")\n",
    "    plt.ylabel(\"Total Reward\")\n",
    "    plt.title(\"Reward per Episode\")\n",
    "    plt.grid()\n",
    "    plt.show()\n",
    "\n",
    "\n",
    "# start program\n",
    "if __name__ == \"__main__\":\n",
    "    train()\n",
    "\n"
   ]
  }
 ],
 "metadata": {
  "language_info": {
   "name": "python"
  }
 },
 "nbformat": 4,
 "nbformat_minor": 5
}
