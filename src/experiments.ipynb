{
 "cells": [
  {
   "cell_type": "code",
   "execution_count": 70,
   "id": "48ff7ffd",
   "metadata": {},
   "outputs": [],
   "source": [
    "# import base stats libraries\n",
    "import numpy as np\n",
    "import pandas as pd\n",
    "import random \n",
    "import seaborn as sb\n",
    "import matplotlib.pyplot as plt\n",
    "\n",
    "# import yfinance for stock data\n",
    "import yfinance as yf \n",
    "\n",
    "# import torch for model creation and sklearn to scale within reasonable range\n",
    "import torch\n",
    "from sklearn.preprocessing import MinMaxScaler\n",
    "\n",
    "# import progress bar\n",
    "from tqdm import tqdm\n",
    "\n",
    "# import decoupling method numpy array split\n",
    "from collections import deque\n",
    "\n",
    "#import datetime\n",
    "#import cv2"
   ]
  },
  {
   "cell_type": "code",
   "execution_count": 71,
   "id": "725d0ce9",
   "metadata": {},
   "outputs": [],
   "source": [
    "# cuda setup\n",
    "if torch.cuda.is_available():\n",
    "    device = 'cuda'\n",
    "else:\n",
    "    device = 'cpu'"
   ]
  },
  {
   "cell_type": "markdown",
   "id": "347dc96d",
   "metadata": {},
   "source": [
    "### Trading Environment"
   ]
  },
  {
   "cell_type": "code",
   "execution_count": 72,
   "id": "2501aaa0",
   "metadata": {},
   "outputs": [],
   "source": [
    "class TradingEnv:\n",
    "    def __init__(self, data, window_size = 30, initial_balance = 10000):\n",
    "        self.data = data\n",
    "        self.window_size = window_size\n",
    "        self.initial_balance = initial_balance\n",
    "        self.reset()\n",
    "    \n",
    "    def reset(self):\n",
    "        self.current_step = self.window_size\n",
    "        self.balance = self.initial_balance\n",
    "        self.shares_held = 0\n",
    "        self.net_worth = self.initial_balance\n",
    "        self.done = False\n",
    "        return self.getStates()\n",
    "    \n",
    "    def getStates(self):\n",
    "        state = self.data[self.current_step - self.window_size:self.current_step]\n",
    "        return state.flatten()\n",
    "    \n",
    "    def step(self, action):\n",
    "        price = self.data[self.current_step][3] # close\n",
    "        prev_net = self.net_worth\n",
    "        reward = 0\n",
    "\n",
    "        if action == 1: # Buy\n",
    "            if self.balance >= price:\n",
    "                self.balance -= price\n",
    "                self.shares_held += 1 \n",
    "        elif action == 2: # sell\n",
    "            if self.shares_held > 0:\n",
    "                self.balance += price \n",
    "                self.shares_held -= 1\n",
    "                reward = 1\n",
    "    \n",
    "        self.current_step += 1\n",
    "        if self.current_step >= len(self.data):\n",
    "            self.done = True\n",
    "        self.net_worth = self.balance + self.shares_held * price\n",
    "        reward = self.net_worth - prev_net\n",
    "\n",
    "        return self.getStates(), reward, self.done"
   ]
  },
  {
   "cell_type": "markdown",
   "id": "36ecc8e4",
   "metadata": {},
   "source": [
    "### Network architecture"
   ]
  },
  {
   "cell_type": "code",
   "execution_count": 73,
   "id": "d3d180fb",
   "metadata": {},
   "outputs": [],
   "source": [
    "N_features = 5 # OHLCV\n",
    "window_size = 30 # 30-day trading window\n",
    "N_states = N_features * window_size \n",
    "\n",
    "class TradingNet(torch.nn.Module):\n",
    "    def __init__(self):\n",
    "        super(TradingNet, self).__init__()\n",
    "        self.fc1 = torch.nn.Linear(N_states,8192)\n",
    "        self.fc2 = torch.nn.Linear(8192,1024)\n",
    "        self.fc3 = torch.nn.Linear(1024,3)\n",
    "        self.activ = torch.nn.LeakyReLU()\n",
    "    \n",
    "    def forward(self, x):\n",
    "        x =self.activ(self.fc1(x))\n",
    "        x = self.activ(self.fc2(x))\n",
    "        return self.fc3(x)"
   ]
  },
  {
   "cell_type": "markdown",
   "id": "6188b555",
   "metadata": {},
   "source": [
    "### Replay Class"
   ]
  },
  {
   "cell_type": "code",
   "execution_count": 74,
   "id": "8fa2f94e",
   "metadata": {},
   "outputs": [],
   "source": [
    "class ReplayBuffer:\n",
    "    def __init__(self, capacity):\n",
    "        self.buffer = deque(maxlen=capacity)\n",
    "\n",
    "    def push(self, state, action, reward, next_state, done):\n",
    "        self.buffer.append((state, action, reward, next_state, done))\n",
    "\n",
    "    def sample(self, batch_size):\n",
    "        batch = random.sample(self.buffer, batch_size)\n",
    "        state, action, reward, next_state, done = map(np.array, zip(*batch))\n",
    "        return state, action, reward, next_state, done\n",
    "\n",
    "    def __len__(self):\n",
    "        return len(self.buffer)\n",
    "\n"
   ]
  },
  {
   "cell_type": "markdown",
   "id": "5c21cc7c",
   "metadata": {},
   "source": [
    "### Parameters/Settings"
   ]
  },
  {
   "cell_type": "code",
   "execution_count": null,
   "id": "f1dde961",
   "metadata": {},
   "outputs": [],
   "source": [
    "'''Initial model settings will be here '''\n",
    "# model parameter settings\n",
    "episodes = 50\n",
    "gamma = 0.99\n",
    "epsilon = 1.0\n",
    "epsilon_min = 0.01\n",
    "epsilon_decay = 0.999\n",
    "batch_size = 32\n",
    "buffer_capacity = 10000\n",
    "model_path = \"trading_net_nvda.pth\"\n"
   ]
  },
  {
   "cell_type": "markdown",
   "id": "70c33d94",
   "metadata": {},
   "source": [
    "### Get data"
   ]
  },
  {
   "cell_type": "code",
   "execution_count": 76,
   "id": "bd0d29d2",
   "metadata": {},
   "outputs": [],
   "source": [
    "def stock_data(ticker='NVDA', start=\"2020-01-01\", end=\"2023-12-31\"):\n",
    "    #load stock data while also cleaning columns of interest\n",
    "    data = yf.download(ticker, start=start, end=end)[[\"Open\",\"High\",\"Low\",\"Close\",\"Volume\"]].fillna(method='ffill')\n",
    "    scaler = MinMaxScaler()\n",
    "    scaled_data = scaler.fit_transform(data)\n",
    "    return scaled_data"
   ]
  },
  {
   "cell_type": "markdown",
   "id": "edee7808",
   "metadata": {},
   "source": [
    "### Training"
   ]
  },
  {
   "cell_type": "code",
   "execution_count": null,
   "id": "5dfa1e00",
   "metadata": {},
   "outputs": [
    {
     "name": "stderr",
     "output_type": "stream",
     "text": [
      "[*********************100%***********************]  1 of 1 completed"
     ]
    },
    {
     "name": "stderr",
     "output_type": "stream",
     "text": [
      "\n",
      "/tmp/ipykernel_119413/637916187.py:3: FutureWarning: DataFrame.fillna with 'method' is deprecated and will raise in a future version. Use obj.ffill() or obj.bfill() instead.\n",
      "  data = yf.download(ticker, start=start, end=end)[[\"Open\",\"High\",\"Low\",\"Close\",\"Volume\"]].fillna(method='ffill')\n",
      "Training Episodes:   0%|          | 0/50 [00:00<?, ?it/s]\n"
     ]
    },
    {
     "ename": "NameError",
     "evalue": "name 'i' is not defined",
     "output_type": "error",
     "traceback": [
      "\u001b[0;31m---------------------------------------------------------------------------\u001b[0m",
      "\u001b[0;31mNameError\u001b[0m                                 Traceback (most recent call last)",
      "Cell \u001b[0;32mIn[77], line 78\u001b[0m\n\u001b[1;32m     76\u001b[0m \u001b[38;5;66;03m# start program\u001b[39;00m\n\u001b[1;32m     77\u001b[0m \u001b[38;5;28;01mif\u001b[39;00m \u001b[38;5;18m__name__\u001b[39m \u001b[38;5;241m==\u001b[39m \u001b[38;5;124m\"\u001b[39m\u001b[38;5;124m__main__\u001b[39m\u001b[38;5;124m\"\u001b[39m:\n\u001b[0;32m---> 78\u001b[0m     train()\n",
      "Cell \u001b[0;32mIn[77], line 51\u001b[0m, in \u001b[0;36mtrain\u001b[0;34m()\u001b[0m\n\u001b[1;32m     48\u001b[0m next_q_values \u001b[38;5;241m=\u001b[39m target_model(next_states)\n\u001b[1;32m     50\u001b[0m q_target \u001b[38;5;241m=\u001b[39m q_values\u001b[38;5;241m.\u001b[39mdetach()\u001b[38;5;241m.\u001b[39mclone()\n\u001b[0;32m---> 51\u001b[0m q_target[i, actions[i]] \u001b[38;5;241m=\u001b[39m rewards[i] \u001b[38;5;241m+\u001b[39m gamma \u001b[38;5;241m*\u001b[39m torch\u001b[38;5;241m.\u001b[39mmax(next_q_values[\u001b[38;5;241m1\u001b[39m]) \u001b[38;5;241m*\u001b[39m (\u001b[38;5;241m1\u001b[39m \u001b[38;5;241m-\u001b[39m dones[i])\n\u001b[1;32m     53\u001b[0m loss \u001b[38;5;241m=\u001b[39m criterion(q_values, q_target)\n\u001b[1;32m     54\u001b[0m optimizer\u001b[38;5;241m.\u001b[39mzero_grad()\n",
      "\u001b[0;31mNameError\u001b[0m: name 'i' is not defined"
     ]
    }
   ],
   "source": [
    "def train():\n",
    "    data = stock_data()\n",
    "    env = TradingEnv(data,30)#30 is for days\n",
    "    action_size = 3 # buy,sell, hold\n",
    "    model = TradingNet() # neural network\n",
    "\n",
    "    #network setup\n",
    "    target_model = TradingNet().to(device)\n",
    "    target_model.load_state_dict(model.state_dict())\n",
    "\n",
    "    net = TradingNet()\n",
    "    optimizer = torch.optim.Adam(net.parameters(), lr=1e-4)\n",
    "    criterion = torch.nn.MSELoss()\n",
    "    replay_buffer = ReplayBuffer(buffer_capacity)\n",
    "\n",
    "    global epsilon # access epsilon variable from settings\n",
    "    rewards_history = []\n",
    "\n",
    "    # Training Loop\n",
    "    for episode in tqdm(range(episodes), desc=\"Training Episodes\"):\n",
    "        state = env.reset()\n",
    "        total_reward = 0\n",
    "        done = False\n",
    "\n",
    "        while not done:\n",
    "            if np.random.rand() <= epsilon:\n",
    "                action = random.randrange(action_size)\n",
    "            else:\n",
    "                with torch.no_grad():\n",
    "                    action = torch.argmax(model(torch.FloatTensor(state))).item()\n",
    "            \n",
    "            next_state, reward, done = env.step(action)\n",
    "            replay_buffer.push(state, action, reward, next_state, done)\n",
    "            state = next_state\n",
    "            total_reward += reward\n",
    "\n",
    "            # Replay\n",
    "            if len(replay_buffer) >= batch_size:\n",
    "                states, actions, rewards, next_states, dones = replay_buffer.sample(batch_size)\n",
    "                states = torch.FloatTensor(states)\n",
    "                next_states = torch.FloatTensor(next_states)\n",
    "                actions = torch.LongTensor(actions)\n",
    "                rewards = torch.FloatTensor(rewards)\n",
    "                dones = torch.FloatTensor(dones)\n",
    "\n",
    "                # values for model states\n",
    "                q_values = model(states)\n",
    "                next_q_values = target_model(next_states)\n",
    "\n",
    "                # Q-values for next states\n",
    "                max_next_q_values = torch.max(next_q_values, dim=1)[0]\n",
    "\n",
    "                q_targets = rewards + gamma * max_next_q_values * (1 - dones)\n",
    "\n",
    "                q_values_actions = q_values.gather(1, actions.unsqeeze(1)).squeeze()\n",
    "\n",
    "\n",
    "                loss = criterion(q_values_actions, q_target)\n",
    "\n",
    "                \n",
    "                optimizer.zero_grad()\n",
    "                loss.backward()\n",
    "                optimizer.step()\n",
    "        \n",
    "            epsilon = max(epsilon_min, epsilon * epsilon_decay)\n",
    "        target_model.load_state_dict(model.state_dict())\n",
    "        rewards_history.append(total_reward)\n",
    "        print(f\"Episode{episode+1}/{episodes}, Total Reward: {total_reward}, Epsilon: {epsilon:.4f}\")\n",
    "    \n",
    "    # save model\n",
    "    torch.save(model.state_dict(),model_path)\n",
    "    print(\"Model saved to\", model_path)\n",
    "\n",
    "    # display progress\n",
    "    plt.plot(rewards_history)\n",
    "    plt.xlabel(\"Episode\")\n",
    "    plt.ylabel(\"Total Reward\")\n",
    "    plt.title(\"Reward per Episode\")\n",
    "    plt.grid()\n",
    "    plt.show()\n",
    "\n",
    "\n",
    "# start program\n",
    "if __name__ == \"__main__\":\n",
    "    train()\n",
    "\n"
   ]
  }
 ],
 "metadata": {
  "language_info": {
   "name": "python"
  }
 },
 "nbformat": 4,
 "nbformat_minor": 5
}
