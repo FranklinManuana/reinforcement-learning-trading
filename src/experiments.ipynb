{
 "cells": [
  {
   "cell_type": "code",
   "execution_count": 54,
   "id": "48ff7ffd",
   "metadata": {},
   "outputs": [],
   "source": [
    "# import base stats libraries\n",
    "import numpy as np\n",
    "import pandas as pd\n",
    "import random \n",
    "import seaborn as sb\n",
    "import matplotlib.pyplot as plt\n",
    "\n",
    "# import yfinance for stock data\n",
    "import yfinance as yf \n",
    "\n",
    "# import torch for model creation and sklearn to scale within reasonable range\n",
    "import torch\n",
    "from sklearn.preprocessing import MinMaxScaler\n",
    "\n",
    "# import progress bar\n",
    "from tqdm import tqdm\n",
    "\n",
    "# import decoupling method numpy array split\n",
    "from collections import deque\n",
    "\n",
    "#import datetime\n",
    "#import cv2"
   ]
  },
  {
   "cell_type": "markdown",
   "id": "347dc96d",
   "metadata": {},
   "source": [
    "### Trading Environment"
   ]
  },
  {
   "cell_type": "code",
   "execution_count": 55,
   "id": "2501aaa0",
   "metadata": {},
   "outputs": [],
   "source": [
    "class TradingEnv:\n",
    "    def __init__(self, data, window_size = 30, initial_balance = 10000):\n",
    "        self.data = data\n",
    "        self.window_size = window_size\n",
    "        self.initial_balance = initial_balance\n",
    "        self.reset()\n",
    "    \n",
    "    def reset(self):\n",
    "        self.current_step = self.window_size\n",
    "        self.balance = self.initial_balance\n",
    "        self.shares_held = 0\n",
    "        self.net_worth = self.initial_balance\n",
    "        self.done = False\n",
    "        return self.getStates()\n",
    "    \n",
    "    def getStates(self):\n",
    "        state = self.data[self.current_step - self.window_size:self.current_step]\n",
    "        return state.flatten()\n",
    "    \n",
    "    def step(self, action):\n",
    "        price = self.data[self.current_step][3] # close\n",
    "        prev_net = self.net_worth\n",
    "        reward = 0\n",
    "\n",
    "        if action == 1: # Buy\n",
    "            if self.balance >= price:\n",
    "                self.balance -= price\n",
    "                self.shares_held += 1 \n",
    "        elif action == 2: # sell\n",
    "            if self.shares_held > 0:\n",
    "                self.balance += price \n",
    "                self.shares_held -= 1\n",
    "                reward = 1\n",
    "    \n",
    "        self.current_step += 1\n",
    "        if self.current_step >= len(self.data):\n",
    "            self.done = True\n",
    "        self.net_worth = self.balance + self.shares_held * price\n",
    "        reward = self.net_worth - prev_net\n",
    "\n",
    "        return self.getStates(), reward, self.done"
   ]
  },
  {
   "cell_type": "markdown",
   "id": "36ecc8e4",
   "metadata": {},
   "source": [
    "### Network architecture"
   ]
  },
  {
   "cell_type": "code",
   "execution_count": 56,
   "id": "d3d180fb",
   "metadata": {},
   "outputs": [],
   "source": [
    "N_features = 5 # OHLCV\n",
    "window_size = 30 # 30-day trading window\n",
    "N_states = N_features * window_size \n",
    "\n",
    "class TradingNet(torch.nn.Module):\n",
    "    def __init__(self):\n",
    "        super(TradingNet, self).__init__()\n",
    "        self.fc1 = torch.nn.Linear(N_states,8192)\n",
    "        self.fc2 = torch.nn.Linear(8192,1024)\n",
    "        self.fc3 = torch.nn.Linear(1024,3)\n",
    "        self.activ = torch.nn.LeakyReLU()\n",
    "    \n",
    "    def forward(self, x):\n",
    "        x =self.activ(self.fc1(x))\n",
    "        x = self.activ(self.fc2(x))\n",
    "        return self.fc3(x)"
   ]
  },
  {
   "cell_type": "markdown",
   "id": "6188b555",
   "metadata": {},
   "source": [
    "### Replay Class"
   ]
  },
  {
   "cell_type": "code",
   "execution_count": 57,
   "id": "8fa2f94e",
   "metadata": {},
   "outputs": [],
   "source": [
    "class ReplayBuffer:\n",
    "    def __init__(self, capacity):\n",
    "        self.buffer = deque(maxlen=capacity)\n",
    "\n",
    "    def push(self, state, action, reward, next_state, done):\n",
    "        self.buffer.append((state, action, reward, next_state, done))\n",
    "\n",
    "    def sample(self, batch_size):\n",
    "        batch = random.sample(self.buffer, batch_size)\n",
    "        state, action, reward, next_state, done = map(np.array, zip(*batch))\n",
    "        return state, action, reward, next_state, done\n",
    "\n",
    "    def __len__(self):\n",
    "        return len(self.buffer)\n",
    "\n"
   ]
  },
  {
   "cell_type": "markdown",
   "id": "5c21cc7c",
   "metadata": {},
   "source": [
    "### Parameters/Settings"
   ]
  },
  {
   "cell_type": "code",
   "execution_count": 58,
   "id": "f1dde961",
   "metadata": {},
   "outputs": [],
   "source": [
    "'''Initial model settings will be here '''\n",
    "# model parameter settings\n",
    "episodes = 50\n",
    "gamma = 0.99\n",
    "epsilon = 1.0\n",
    "epsilon_min = 0.01\n",
    "epsilon_decay = 0.995\n",
    "batch_size = 32\n",
    "buffer_capacity = 10000\n",
    "model_path = \"trading_net_nvda.pth\"\n"
   ]
  },
  {
   "cell_type": "markdown",
   "id": "70c33d94",
   "metadata": {},
   "source": [
    "### Get data"
   ]
  },
  {
   "cell_type": "code",
   "execution_count": 59,
   "id": "bd0d29d2",
   "metadata": {},
   "outputs": [],
   "source": [
    "def stock_data(ticker='NVDA', start=\"2020-01-01\", end=\"2023-12-31\"):\n",
    "    #load stock data while also cleaning columns of interest\n",
    "    data = yf.download(ticker, start=start, end=end)[[\"Open\",\"High\",\"Low\",\"Close\",\"Volume\"]].fillna(method='ffill')\n",
    "    scaler = MinMaxScaler()\n",
    "    scaled_data = scaler.fit_transform(data)\n",
    "    return scaled_data"
   ]
  },
  {
   "cell_type": "markdown",
   "id": "edee7808",
   "metadata": {},
   "source": [
    "### Training"
   ]
  },
  {
   "cell_type": "code",
   "execution_count": null,
   "id": "5dfa1e00",
   "metadata": {},
   "outputs": [
    {
     "name": "stderr",
     "output_type": "stream",
     "text": [
      "[*********************100%***********************]  1 of 1 completed\n",
      "/tmp/ipykernel_119413/637916187.py:3: FutureWarning: DataFrame.fillna with 'method' is deprecated and will raise in a future version. Use obj.ffill() or obj.bfill() instead.\n",
      "  data = yf.download(ticker, start=start, end=end)[[\"Open\",\"High\",\"Low\",\"Close\",\"Volume\"]].fillna(method='ffill')\n",
      "Training Episodes:   2%|▏         | 1/50 [00:56<46:14, 56.63s/it]"
     ]
    },
    {
     "name": "stdout",
     "output_type": "stream",
     "text": [
      "Episode1/50, Total Reward: 7.423276139474183, Epsilon: 0.9900\n"
     ]
    },
    {
     "name": "stderr",
     "output_type": "stream",
     "text": [
      "Training Episodes:   4%|▍         | 2/50 [01:52<44:44, 55.92s/it]"
     ]
    },
    {
     "name": "stdout",
     "output_type": "stream",
     "text": [
      "Episode2/50, Total Reward: 4.279925167274996, Epsilon: 0.9851\n"
     ]
    },
    {
     "name": "stderr",
     "output_type": "stream",
     "text": [
      "Training Episodes:   6%|▌         | 3/50 [02:47<43:34, 55.62s/it]"
     ]
    },
    {
     "name": "stdout",
     "output_type": "stream",
     "text": [
      "Episode3/50, Total Reward: 6.679149905181475, Epsilon: 0.9801\n"
     ]
    },
    {
     "name": "stderr",
     "output_type": "stream",
     "text": [
      "Training Episodes:   8%|▊         | 4/50 [03:39<41:43, 54.42s/it]"
     ]
    },
    {
     "name": "stdout",
     "output_type": "stream",
     "text": [
      "Episode4/50, Total Reward: 4.880048692828495, Epsilon: 0.9752\n"
     ]
    },
    {
     "name": "stderr",
     "output_type": "stream",
     "text": [
      "Training Episodes:  10%|█         | 5/50 [04:44<43:41, 58.26s/it]"
     ]
    },
    {
     "name": "stdout",
     "output_type": "stream",
     "text": [
      "Episode5/50, Total Reward: 8.28130543241059, Epsilon: 0.9704\n"
     ]
    },
    {
     "name": "stderr",
     "output_type": "stream",
     "text": [
      "Training Episodes:  12%|█▏        | 6/50 [05:48<44:04, 60.10s/it]"
     ]
    },
    {
     "name": "stdout",
     "output_type": "stream",
     "text": [
      "Episode6/50, Total Reward: 9.03873001268039, Epsilon: 0.9655\n"
     ]
    },
    {
     "name": "stderr",
     "output_type": "stream",
     "text": [
      "Training Episodes:  14%|█▍        | 7/50 [06:52<43:50, 61.18s/it]"
     ]
    },
    {
     "name": "stdout",
     "output_type": "stream",
     "text": [
      "Episode7/50, Total Reward: 5.876209793044836, Epsilon: 0.9607\n"
     ]
    },
    {
     "name": "stderr",
     "output_type": "stream",
     "text": [
      "Training Episodes:  16%|█▌        | 8/50 [07:47<41:28, 59.25s/it]"
     ]
    },
    {
     "name": "stdout",
     "output_type": "stream",
     "text": [
      "Episode8/50, Total Reward: 17.779806923679644, Epsilon: 0.9559\n"
     ]
    },
    {
     "name": "stderr",
     "output_type": "stream",
     "text": [
      "Training Episodes:  18%|█▊        | 9/50 [08:45<40:22, 59.08s/it]"
     ]
    },
    {
     "name": "stdout",
     "output_type": "stream",
     "text": [
      "Episode9/50, Total Reward: 11.494921814415648, Epsilon: 0.9511\n"
     ]
    },
    {
     "name": "stderr",
     "output_type": "stream",
     "text": [
      "Training Episodes:  20%|██        | 10/50 [09:51<40:49, 61.23s/it]"
     ]
    },
    {
     "name": "stdout",
     "output_type": "stream",
     "text": [
      "Episode10/50, Total Reward: 20.049376622304408, Epsilon: 0.9464\n"
     ]
    },
    {
     "name": "stderr",
     "output_type": "stream",
     "text": [
      "Training Episodes:  22%|██▏       | 11/50 [11:01<41:26, 63.75s/it]"
     ]
    },
    {
     "name": "stdout",
     "output_type": "stream",
     "text": [
      "Episode11/50, Total Reward: 5.80815534627618, Epsilon: 0.9416\n"
     ]
    },
    {
     "name": "stderr",
     "output_type": "stream",
     "text": [
      "Training Episodes:  24%|██▍       | 12/50 [12:03<40:02, 63.22s/it]"
     ]
    },
    {
     "name": "stdout",
     "output_type": "stream",
     "text": [
      "Episode12/50, Total Reward: 15.580211892172883, Epsilon: 0.9369\n"
     ]
    },
    {
     "name": "stderr",
     "output_type": "stream",
     "text": [
      "Training Episodes:  26%|██▌       | 13/50 [13:00<37:48, 61.32s/it]"
     ]
    },
    {
     "name": "stdout",
     "output_type": "stream",
     "text": [
      "Episode13/50, Total Reward: 10.018685172437472, Epsilon: 0.9322\n"
     ]
    },
    {
     "name": "stderr",
     "output_type": "stream",
     "text": [
      "Training Episodes:  28%|██▊       | 14/50 [13:59<36:22, 60.64s/it]"
     ]
    },
    {
     "name": "stdout",
     "output_type": "stream",
     "text": [
      "Episode14/50, Total Reward: -0.28063896848289005, Epsilon: 0.9276\n"
     ]
    },
    {
     "name": "stderr",
     "output_type": "stream",
     "text": [
      "Training Episodes:  30%|███       | 15/50 [14:55<34:36, 59.33s/it]"
     ]
    },
    {
     "name": "stdout",
     "output_type": "stream",
     "text": [
      "Episode15/50, Total Reward: 6.231545971495507, Epsilon: 0.9229\n"
     ]
    },
    {
     "name": "stderr",
     "output_type": "stream",
     "text": [
      "Training Episodes:  32%|███▏      | 16/50 [15:51<33:03, 58.33s/it]"
     ]
    },
    {
     "name": "stdout",
     "output_type": "stream",
     "text": [
      "Episode16/50, Total Reward: 2.8620924367824045, Epsilon: 0.9183\n"
     ]
    },
    {
     "name": "stderr",
     "output_type": "stream",
     "text": [
      "Training Episodes:  34%|███▍      | 17/50 [16:45<31:16, 56.85s/it]"
     ]
    },
    {
     "name": "stdout",
     "output_type": "stream",
     "text": [
      "Episode17/50, Total Reward: 30.420905942553873, Epsilon: 0.9137\n"
     ]
    },
    {
     "name": "stderr",
     "output_type": "stream",
     "text": [
      "Training Episodes:  36%|███▌      | 18/50 [17:45<30:53, 57.92s/it]"
     ]
    },
    {
     "name": "stdout",
     "output_type": "stream",
     "text": [
      "Episode18/50, Total Reward: 7.524739055123064, Epsilon: 0.9092\n"
     ]
    },
    {
     "name": "stderr",
     "output_type": "stream",
     "text": [
      "Training Episodes:  38%|███▊      | 19/50 [18:45<30:18, 58.67s/it]"
     ]
    },
    {
     "name": "stdout",
     "output_type": "stream",
     "text": [
      "Episode19/50, Total Reward: 4.99277468227956, Epsilon: 0.9046\n"
     ]
    },
    {
     "name": "stderr",
     "output_type": "stream",
     "text": [
      "Training Episodes:  40%|████      | 20/50 [19:53<30:41, 61.39s/it]"
     ]
    },
    {
     "name": "stdout",
     "output_type": "stream",
     "text": [
      "Episode20/50, Total Reward: 11.998994187777498, Epsilon: 0.9001\n"
     ]
    },
    {
     "name": "stderr",
     "output_type": "stream",
     "text": [
      "Training Episodes:  42%|████▏     | 21/50 [20:49<28:55, 59.84s/it]"
     ]
    },
    {
     "name": "stdout",
     "output_type": "stream",
     "text": [
      "Episode21/50, Total Reward: 17.5729968784035, Epsilon: 0.8956\n"
     ]
    },
    {
     "name": "stderr",
     "output_type": "stream",
     "text": [
      "Training Episodes:  44%|████▍     | 22/50 [21:51<28:09, 60.35s/it]"
     ]
    },
    {
     "name": "stdout",
     "output_type": "stream",
     "text": [
      "Episode22/50, Total Reward: 17.53534211155238, Epsilon: 0.8911\n"
     ]
    },
    {
     "name": "stderr",
     "output_type": "stream",
     "text": [
      "Training Episodes:  46%|████▌     | 23/50 [22:47<26:33, 59.01s/it]"
     ]
    },
    {
     "name": "stdout",
     "output_type": "stream",
     "text": [
      "Episode23/50, Total Reward: 5.388259807132272, Epsilon: 0.8867\n"
     ]
    },
    {
     "name": "stderr",
     "output_type": "stream",
     "text": [
      "Training Episodes:  48%|████▊     | 24/50 [23:41<24:59, 57.67s/it]"
     ]
    },
    {
     "name": "stdout",
     "output_type": "stream",
     "text": [
      "Episode24/50, Total Reward: 11.128550810388333, Epsilon: 0.8822\n"
     ]
    },
    {
     "name": "stderr",
     "output_type": "stream",
     "text": [
      "Training Episodes:  50%|█████     | 25/50 [24:42<24:22, 58.49s/it]"
     ]
    },
    {
     "name": "stdout",
     "output_type": "stream",
     "text": [
      "Episode25/50, Total Reward: 6.064734454112113, Epsilon: 0.8778\n"
     ]
    },
    {
     "name": "stderr",
     "output_type": "stream",
     "text": [
      "Training Episodes:  52%|█████▏    | 26/50 [25:42<23:37, 59.06s/it]"
     ]
    },
    {
     "name": "stdout",
     "output_type": "stream",
     "text": [
      "Episode26/50, Total Reward: 2.2406886374137684, Epsilon: 0.8734\n"
     ]
    }
   ],
   "source": [
    "def train():\n",
    "    data = stock_data()\n",
    "    env = TradingEnv(data,30)#30 is for days\n",
    "    action_size = 3 # buy,sell, hold\n",
    "    model = TradingNet() # neural network\n",
    "\n",
    "    #network setup\n",
    "    target_model = TradingNet()\n",
    "    target_model.load_state_dict(model.state_dict())\n",
    "\n",
    "    net = TradingNet()\n",
    "    optimizer = torch.optim.Adam(net.parameters(), lr=1e-4)\n",
    "    criterion = torch.nn.MSELoss()\n",
    "    replay_buffer = ReplayBuffer(buffer_capacity)\n",
    "\n",
    "    global epsilon # access epsilon variable from settings\n",
    "    rewards_history = []\n",
    "\n",
    "    # Training Loop\n",
    "    for episode in tqdm(range(episodes), desc=\"Training Episodes\"):\n",
    "        state = env.reset()\n",
    "        total_reward = 0\n",
    "        done = False\n",
    "\n",
    "        while not done:\n",
    "            if np.random.rand() <= epsilon:\n",
    "                action = random.randrange(action_size)\n",
    "            else:\n",
    "                with torch.no_grad():\n",
    "                    action = torch.argmax(model(torch.FloatTensor(state))).item()\n",
    "            \n",
    "            next_state, reward, done = env.step(action)\n",
    "            replay_buffer.push(state, action, reward, next_state, done)\n",
    "            state = next_state\n",
    "            total_reward += reward\n",
    "\n",
    "            # Replay\n",
    "            if len(replay_buffer) >= batch_size:\n",
    "                states, actions, rewards, next_states, dones = replay_buffer.sample(batch_size)\n",
    "                states = torch.FloatTensor(states)\n",
    "                next_states = torch.FloatTensor(next_states)\n",
    "                actions = torch.LongTensor(actions)\n",
    "                rewards = torch.FloatTensor(rewards)\n",
    "                dones = torch.FloatTensor(dones)\n",
    "\n",
    "                # values for model states\n",
    "                q_values = model(states)\n",
    "                next_q_values = target_model(next_states)\n",
    "\n",
    "                q_target = q_values.detach().clone()\n",
    "                for i in range(batch_size):\n",
    "                    q_target[i, actions[i]] = rewards[i] + gamma * torch.max(next_q_values[1]) * (1 - dones[i])\n",
    "\n",
    "                loss = criterion(q_values, q_target)\n",
    "                optimizer.zero_grad()\n",
    "                loss.backward()\n",
    "                optimizer.step()\n",
    "        \n",
    "        epsilon = max(epsilon_min, epsilon * epsilon_decay)\n",
    "        target_model.load_state_dict(model.state_dict())\n",
    "        rewards_history.append(total_reward)\n",
    "        print(f\"Episode{episode+1}/{episodes}, Total Reward: {total_reward}, Epsilon: {epsilon:.4f}\")\n",
    "    \n",
    "    # save model\n",
    "    torch.save(model.state_dict(),model_path)\n",
    "    print(\"Model saved to\", model_path)\n",
    "\n",
    "    # display progress\n",
    "    plt.plot(rewards_history)\n",
    "    plt.xlabel(\"Episode\")\n",
    "    plt.ylabel(\"Total Reward\")\n",
    "    plt.title(\"Reward per Episode\")\n",
    "    plt.grid()\n",
    "    plt.show()\n",
    "\n",
    "\n",
    "# start program\n",
    "if __name__ == \"__main__\":\n",
    "    train()\n",
    "\n"
   ]
  }
 ],
 "metadata": {
  "language_info": {
   "name": "python"
  }
 },
 "nbformat": 4,
 "nbformat_minor": 5
}
