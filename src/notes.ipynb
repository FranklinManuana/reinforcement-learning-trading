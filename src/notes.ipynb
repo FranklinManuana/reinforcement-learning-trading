{
 "cells": [
  {
   "cell_type": "code",
   "execution_count": null,
   "id": "bb6056df",
   "metadata": {},
   "outputs": [],
   "source": [
    "def get_states():\n",
    "\n",
    "\n",
    "# complie states\n",
    "states = np.concate \n",
    "\n"
   ]
  },
  {
   "cell_type": "code",
   "execution_count": null,
   "id": "6e53b8d1",
   "metadata": {},
   "outputs": [],
   "source": [
    "# each episode is a simulation\n",
    "for e in range(N_episodes):\n",
    "\n",
    "    for in "
   ]
  },
  {
   "cell_type": "code",
   "execution_count": null,
   "id": "32e61021",
   "metadata": {},
   "outputs": [],
   "source": [
    "'''\n",
    "1. states\n",
    "2. decide action\n",
    "3. apply action\n",
    "4. new suation from action'''"
   ]
  },
  {
   "cell_type": "code",
   "execution_count": null,
   "id": "96cf7bc7",
   "metadata": {},
   "outputs": [],
   "source": [
    "'''\n",
    "for each game:\n",
    "for each step of the game/simulation:\n",
    "- get sates now(what's the situation)\n",
    "- send states to neural net to decide on an action( what do I do)\n",
    "-implement that action - > new states(what happened)\n",
    "-calculate reward(if something good happened, we should get a reward and if something bad\n",
    "happens push.)'''"
   ]
  },
  {
   "cell_type": "code",
   "execution_count": null,
   "id": "ac3314ea",
   "metadata": {},
   "outputs": [],
   "source": [
    "'''states,new_states, turn, reward, gameover'''\n",
    "'''transition = np.concate()\n",
    "stack transitions to \n",
    "replay_buffer.add(transition)\n",
    "'''\n",
    "# torch.nn.Linear\n",
    "q_values = net(torch.tensor(states).cuda())\n",
    "\n",
    "net = snakeneuralnet()\n",
    "\n",
    "turn = np.argmx(q_values.cpu().detach().numpy())\n",
    "\n",
    "\n",
    "q_values_batch\n",
    "next_actions\n",
    "q_values_next_max\n",
    "targets\n",
    "N_states = days trading "
   ]
  }
 ],
 "metadata": {
  "language_info": {
   "name": "python"
  }
 },
 "nbformat": 4,
 "nbformat_minor": 5
}
